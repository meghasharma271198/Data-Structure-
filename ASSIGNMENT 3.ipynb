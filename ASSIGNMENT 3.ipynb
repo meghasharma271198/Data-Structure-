{
 "cells": [
  {
   "cell_type": "markdown",
   "metadata": {},
   "source": [
    "# Write a program to subtract two complex numbers in Python.\n"
   ]
  },
  {
   "cell_type": "code",
   "execution_count": 7,
   "metadata": {},
   "outputs": [
    {
     "name": "stdout",
     "output_type": "stream",
     "text": [
      "subtraction of num1 and num2 is -0.1499999999999999j\n"
     ]
    }
   ],
   "source": [
    "num1=2.15j\n",
    "num2=2.3j\n",
    "num3=num1-num2\n",
    "print(\"subtraction of num1 and num2 is\",num3)"
   ]
  },
  {
   "cell_type": "markdown",
   "metadata": {},
   "source": [
    "# Write a program to find the fourth root of a number."
   ]
  },
  {
   "cell_type": "code",
   "execution_count": 10,
   "metadata": {},
   "outputs": [
    {
     "name": "stdout",
     "output_type": "stream",
     "text": [
      "the fouth root of 3 is 81\n"
     ]
    }
   ],
   "source": [
    "a=3\n",
    "b=a**4\n",
    "print(\"the fouth root of\",a,\"is\",b)"
   ]
  },
  {
   "cell_type": "markdown",
   "metadata": {},
   "source": [
    "# Write a program to swap two numbers in Python with the help of a temporary variable.\n"
   ]
  },
  {
   "cell_type": "code",
   "execution_count": 12,
   "metadata": {},
   "outputs": [
    {
     "name": "stdout",
     "output_type": "stream",
     "text": [
      "before swap a is 10 b is 50\n",
      "after swap a is  50 b is 10\n"
     ]
    }
   ],
   "source": [
    "a=10\n",
    "b=50\n",
    "print(\"before swap a is\",a,\"b is\",b)\n",
    "temp=a\n",
    "a=b\n",
    "b=temp\n",
    "print(\"after swap a is \",a,\"b is\",b)"
   ]
  },
  {
   "cell_type": "markdown",
   "metadata": {},
   "source": [
    "# Write a program to swap two numbers in Python without using a temporary variable."
   ]
  },
  {
   "cell_type": "code",
   "execution_count": 15,
   "metadata": {},
   "outputs": [
    {
     "name": "stdout",
     "output_type": "stream",
     "text": [
      "before swap a is 10 b is 50\n",
      "after swap a is  50 b is 10\n"
     ]
    }
   ],
   "source": [
    "a=10\n",
    "b=50\n",
    "print(\"before swap a is\",a,\"b is\",b)\n",
    "a,b=b,a\n",
    "print(\"after swap a is \",a,\"b is\",b)"
   ]
  },
  {
   "cell_type": "markdown",
   "metadata": {},
   "source": [
    "# Write a program to convert fahrenheit to kelvin and celsius both.\n"
   ]
  },
  {
   "cell_type": "code",
   "execution_count": 24,
   "metadata": {},
   "outputs": [
    {
     "name": "stdout",
     "output_type": "stream",
     "text": [
      "fahrenheit is 32\n",
      "fahrenheit to kelvin 273.15\n",
      "fehrenheit to celsius 0.0\n"
     ]
    }
   ],
   "source": [
    "f=32\n",
    "print(\"fahrenheit is\",f)\n",
    "k=(f-32)*5/9+273.15\n",
    "print(\"fahrenheit to kelvin\",k)\n",
    "c=(f-32)*5/9\n",
    "print(\"fehrenheit to celsius\",c)"
   ]
  },
  {
   "cell_type": "markdown",
   "metadata": {},
   "source": [
    "# Write a program to demonstrate all the available data types in Python. Hint: Use type() function."
   ]
  },
  {
   "cell_type": "code",
   "execution_count": 30,
   "metadata": {},
   "outputs": [
    {
     "name": "stdout",
     "output_type": "stream",
     "text": [
      "2345 type is <class 'int'>\n",
      "23.67j type is <class 'complex'>\n",
      "45.9 type is <class 'float'>\n",
      "(2345+23.67j) type is <class 'complex'>\n",
      "2390.9 type is <class 'float'>\n"
     ]
    }
   ],
   "source": [
    "a=2345 \n",
    "print(a,\"type is\",type(a))\n",
    "b=23.67j\n",
    "print(b,\"type is\",type(b))\n",
    "c=45.90\n",
    "print(c,\"type is\",type(c))\n",
    "d=a+b\n",
    "print(d,\"type is\",type(d))\n",
    "e=a+c\n",
    "print(e,\"type is\",type(e))"
   ]
  },
  {
   "cell_type": "code",
   "execution_count": 35,
   "metadata": {},
   "outputs": [
    {
     "name": "stdout",
     "output_type": "stream",
     "text": [
      "megha list type is <class 'list'>\n"
     ]
    }
   ],
   "source": [
    "list1=[1,2,3,\"megha\",23.45,2j]\n",
    "print(list1[3],\"list type is\",type(list1))"
   ]
  },
  {
   "cell_type": "code",
   "execution_count": 36,
   "metadata": {},
   "outputs": [
    {
     "name": "stdout",
     "output_type": "stream",
     "text": [
      "megha tuple tuple is  <class 'tuple'>\n"
     ]
    }
   ],
   "source": [
    "tuple1=(1,2,3,\"megha\",23.45,2j)\n",
    "print(tuple1[3],\"tuple tuple is \",type(tuple1))"
   ]
  },
  {
   "cell_type": "markdown",
   "metadata": {},
   "source": [
    "# Create a Markdown cell in jupyter and list the steps discussed in the session by Dr. Darshan Ingle sir to create Github profile and upload Githubs Assignment link."
   ]
  },
  {
   "cell_type": "markdown",
   "metadata": {},
   "source": [
    "step 1: open github by searching on google or github.com\n",
    "step 2: right corner of the github wesite there are option like sign up or sign in, choose according to your need \n",
    "step 3: after succesfully create or open github account, you can see top right corner there are 3 option, first is notification look like bell icon , second is addition and third is profile.\n",
    "step 4:click on addition or plus symbole \n",
    "step 5:in \"Your new repository details\" there is a blank text box asking for \"Repository Name\", write letsupgrade \n",
    "step 6:don't change any features and click on begin import\n",
    "step 7:click on your profile synbole located at right top corner \n",
    "step 8: you can se on center of the cornor \"overview\n",
    " Repositories\n",
    " Projects\n",
    " Packages\" as a option \n",
    "step 9: click on Repositories\n",
    "step 10: click on \"LetsUpgrades-AL-ML\"\n",
    "step 11: drag and drop your assignment \n",
    "step 12: done "
   ]
  }
 ],
 "metadata": {
  "kernelspec": {
   "display_name": "Python 3",
   "language": "python",
   "name": "python3"
  },
  "language_info": {
   "codemirror_mode": {
    "name": "ipython",
    "version": 3
   },
   "file_extension": ".py",
   "mimetype": "text/x-python",
   "name": "python",
   "nbconvert_exporter": "python",
   "pygments_lexer": "ipython3",
   "version": "3.7.6"
  }
 },
 "nbformat": 4,
 "nbformat_minor": 4
}
