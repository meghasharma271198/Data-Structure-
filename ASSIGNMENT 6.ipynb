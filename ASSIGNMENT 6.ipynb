{
 "cells": [
  {
   "cell_type": "markdown",
   "metadata": {},
   "source": [
    "# QUESTION 1\n",
    "Assuming that we have some email addresses in the \"username@companyname.com\" format, please write program\n",
    "to print the company name of a given email address. Both user names and company names are composed of letters\n",
    "only"
   ]
  },
  {
   "cell_type": "code",
   "execution_count": 20,
   "metadata": {},
   "outputs": [
    {
     "name": "stdout",
     "output_type": "stream",
     "text": [
      "please enter email ID:megha@google.com\n",
      "google.com\n"
     ]
    }
   ],
   "source": [
    "email =input(\"please enter email ID:\")\n",
    "domain = email.split('@')[1]\n",
    "print(domain)"
   ]
  },
  {
   "cell_type": "markdown",
   "metadata": {},
   "source": [
    "# Question 2:\n",
    "Write a program that accepts a comma-separated sequence of words as input and prints the words in a comma\n",
    "separated sequence after sorting them alphabetically.\n"
   ]
  },
  {
   "cell_type": "code",
   "execution_count": 24,
   "metadata": {},
   "outputs": [
    {
     "name": "stdout",
     "output_type": "stream",
     "text": [
      "['bag', 'hello', 'without', 'world']\n"
     ]
    }
   ],
   "source": [
    "list=[\"without\",\"hello\",\"bag\",\"world\"]\n",
    "list.sort()\n",
    "print(list)"
   ]
  },
  {
   "cell_type": "markdown",
   "metadata": {},
   "source": [
    "# Question 3:\n",
    "Create your own Jupyter Notebook for Sets.\n",
    "Reference link: https://www.w3schools.com/python/python_sets.asp"
   ]
  },
  {
   "cell_type": "code",
   "execution_count": 25,
   "metadata": {},
   "outputs": [
    {
     "name": "stdout",
     "output_type": "stream",
     "text": [
      "{'banana', 'cherry', 'strawberry', 'grapes', 'orange', 'apple', 'mango'}\n"
     ]
    }
   ],
   "source": [
    "#sets \n",
    "a={\"apple\",\"mango\",\"banana\",\"orange\",\"cherry\",\"grapes\",\"strawberry\"}\n",
    "print(a)"
   ]
  },
  {
   "cell_type": "code",
   "execution_count": 26,
   "metadata": {},
   "outputs": [
    {
     "name": "stdout",
     "output_type": "stream",
     "text": [
      "banana\n",
      "cherry\n",
      "strawberry\n",
      "grapes\n",
      "orange\n",
      "apple\n",
      "mango\n"
     ]
    }
   ],
   "source": [
    "a={\"apple\",\"mango\",\"banana\",\"orange\",\"cherry\",\"grapes\",\"strawberry\"}\n",
    "for i in a:\n",
    "    print(i)\n",
    "        "
   ]
  },
  {
   "cell_type": "code",
   "execution_count": 27,
   "metadata": {},
   "outputs": [
    {
     "name": "stdout",
     "output_type": "stream",
     "text": [
      "True\n"
     ]
    }
   ],
   "source": [
    "#present or not\n",
    "print (\"mango\" in a)"
   ]
  },
  {
   "cell_type": "code",
   "execution_count": 28,
   "metadata": {},
   "outputs": [
    {
     "name": "stdout",
     "output_type": "stream",
     "text": [
      "{'banana', 'cherry', 'strawberry', 'grapes', 'orange', 'guava', 'apple', 'mango'}\n"
     ]
    }
   ],
   "source": [
    "#add items\n",
    "a={\"apple\",\"mango\",\"banana\",\"orange\",\"cherry\",\"grapes\",\"strawberry\"}\n",
    "a.add(\"guava\")\n",
    "print(a)"
   ]
  },
  {
   "cell_type": "code",
   "execution_count": 29,
   "metadata": {},
   "outputs": [
    {
     "name": "stdout",
     "output_type": "stream",
     "text": [
      "{'banana', 'b', 'cherry', 'a', 'strawberry', 'grapes', 'c', 'orange', 'apple', 'mango'}\n"
     ]
    }
   ],
   "source": [
    "#update\n",
    "a={\"apple\",\"mango\",\"banana\",\"orange\",\"cherry\",\"grapes\",\"strawberry\"}\n",
    "a.update({\"a\",\"b\",\"c\"})\n",
    "print(a)"
   ]
  },
  {
   "cell_type": "code",
   "execution_count": 30,
   "metadata": {},
   "outputs": [
    {
     "name": "stdout",
     "output_type": "stream",
     "text": [
      "10\n"
     ]
    }
   ],
   "source": [
    "#length\n",
    "print(len(a))"
   ]
  },
  {
   "cell_type": "code",
   "execution_count": 33,
   "metadata": {},
   "outputs": [
    {
     "name": "stdout",
     "output_type": "stream",
     "text": [
      "{'banana', 'cherry', 'strawberry', 'grapes', 'orange', 'apple', 'mango'}\n",
      "{'cherry', 'strawberry', 'grapes', 'orange', 'apple', 'mango'}\n"
     ]
    }
   ],
   "source": [
    "#remove items \n",
    "\n",
    "a={\"apple\",\"mango\",\"banana\",\"orange\",\"cherry\",\"grapes\",\"strawberry\"}\n",
    "print(a)\n",
    "a.remove(\"banana\")\n",
    "print(a)"
   ]
  },
  {
   "cell_type": "code",
   "execution_count": 34,
   "metadata": {},
   "outputs": [
    {
     "name": "stdout",
     "output_type": "stream",
     "text": [
      "{'banana', 'cherry', 'strawberry', 'grapes', 'orange', 'apple', 'mango'}\n",
      "{'banana', 'cherry', 'strawberry', 'grapes', 'orange', 'mango'}\n"
     ]
    }
   ],
   "source": [
    "#discard\n",
    "\n",
    "a={\"apple\",\"mango\",\"banana\",\"orange\",\"cherry\",\"grapes\",\"strawberry\"}\n",
    "print(a)\n",
    "a.discard(\"apple\")\n",
    "print(a)"
   ]
  },
  {
   "cell_type": "code",
   "execution_count": 35,
   "metadata": {},
   "outputs": [
    {
     "data": {
      "text/plain": [
       "'banana'"
      ]
     },
     "execution_count": 35,
     "metadata": {},
     "output_type": "execute_result"
    }
   ],
   "source": [
    "#pop()\n",
    "a.pop()"
   ]
  },
  {
   "cell_type": "code",
   "execution_count": 36,
   "metadata": {},
   "outputs": [
    {
     "name": "stdout",
     "output_type": "stream",
     "text": [
      "{'banana', 'cherry', 'strawberry', 'grapes', 'orange', 'apple', 'mango'}\n",
      "set()\n"
     ]
    }
   ],
   "source": [
    "\n",
    "a={\"apple\",\"mango\",\"banana\",\"orange\",\"cherry\",\"grapes\",\"strawberry\"}\n",
    "print(a)\n",
    "a.clear()\n",
    "print(a)"
   ]
  },
  {
   "cell_type": "code",
   "execution_count": 38,
   "metadata": {},
   "outputs": [
    {
     "name": "stdout",
     "output_type": "stream",
     "text": [
      "{'banana', 'cherry', 'strawberry', 'grapes', 'orange', 'apple', 'mango'}\n"
     ]
    }
   ],
   "source": [
    "\n",
    "a={\"apple\",\"mango\",\"banana\",\"orange\",\"cherry\",\"grapes\",\"strawberry\"}\n",
    "print(a)\n",
    "del a"
   ]
  },
  {
   "cell_type": "code",
   "execution_count": 39,
   "metadata": {},
   "outputs": [
    {
     "ename": "NameError",
     "evalue": "name 'a' is not defined",
     "output_type": "error",
     "traceback": [
      "\u001b[1;31m---------------------------------------------------------------------------\u001b[0m",
      "\u001b[1;31mNameError\u001b[0m                                 Traceback (most recent call last)",
      "\u001b[1;32m<ipython-input-39-bca0e2660b9f>\u001b[0m in \u001b[0;36m<module>\u001b[1;34m\u001b[0m\n\u001b[1;32m----> 1\u001b[1;33m \u001b[0mprint\u001b[0m\u001b[1;33m(\u001b[0m\u001b[0ma\u001b[0m\u001b[1;33m)\u001b[0m\u001b[1;33m\u001b[0m\u001b[1;33m\u001b[0m\u001b[0m\n\u001b[0m",
      "\u001b[1;31mNameError\u001b[0m: name 'a' is not defined"
     ]
    }
   ],
   "source": [
    "print(a)"
   ]
  },
  {
   "cell_type": "code",
   "execution_count": 41,
   "metadata": {},
   "outputs": [
    {
     "name": "stdout",
     "output_type": "stream",
     "text": [
      "{1, 2, 3, 4, 'b', 'a', 'c'}\n"
     ]
    }
   ],
   "source": [
    "#union\n",
    "s1={1,2,3,4}\n",
    "s2={\"a\",\"b\",\"c\"}\n",
    "s3=s1.union(s2)\n",
    "print(s3)"
   ]
  },
  {
   "cell_type": "code",
   "execution_count": 42,
   "metadata": {},
   "outputs": [
    {
     "name": "stdout",
     "output_type": "stream",
     "text": [
      "{1, 2, 3, 4, 'b', 'a', 'c'}\n",
      "{'@', '$'}\n",
      "{1, 2, 3, 4, 'a', 'c', 'b', '@', '$'}\n"
     ]
    }
   ],
   "source": [
    "s4={\"@\",\"$\"}\n",
    "print(s3)\n",
    "print(s4)\n",
    "s3.update(s4)\n",
    "print(s3)"
   ]
  },
  {
   "cell_type": "markdown",
   "metadata": {},
   "source": [
    "# Question 4:\n",
    "Given a list of n-1 numbers ranging from 1 to n, your task is to find the missing number. There are no duplicates"
   ]
  },
  {
   "cell_type": "code",
   "execution_count": 41,
   "metadata": {},
   "outputs": [
    {
     "name": "stdout",
     "output_type": "stream",
     "text": [
      "5\n"
     ]
    }
   ],
   "source": [
    "def missing(a):\n",
    "    x=len(a)\n",
    "    y=sum(a)\n",
    "    return x - y\n",
    "    \n",
    "    \n",
    "a=[1,2,4,6,3,7,8]\n",
    "m=missing(a)\n",
    "print(5)"
   ]
  },
  {
   "cell_type": "markdown",
   "metadata": {},
   "source": [
    "# Question 5:\n",
    "With a given list L, write a program to print this list L after removing all duplicate values with original order reserve"
   ]
  },
  {
   "cell_type": "code",
   "execution_count": 50,
   "metadata": {
    "scrolled": true
   },
   "outputs": [
    {
     "ename": "AttributeError",
     "evalue": "'set' object has no attribute 'fromkeys'",
     "output_type": "error",
     "traceback": [
      "\u001b[1;31m---------------------------------------------------------------------------\u001b[0m",
      "\u001b[1;31mAttributeError\u001b[0m                            Traceback (most recent call last)",
      "\u001b[1;32m<ipython-input-50-3a47dc3d903f>\u001b[0m in \u001b[0;36m<module>\u001b[1;34m\u001b[0m\n\u001b[0;32m      1\u001b[0m \u001b[0ml\u001b[0m\u001b[1;33m=\u001b[0m \u001b[1;33m[\u001b[0m\u001b[1;36m12\u001b[0m\u001b[1;33m,\u001b[0m \u001b[1;36m24\u001b[0m\u001b[1;33m,\u001b[0m \u001b[1;36m35\u001b[0m\u001b[1;33m,\u001b[0m \u001b[1;36m24\u001b[0m \u001b[1;33m,\u001b[0m\u001b[1;36m88\u001b[0m \u001b[1;33m,\u001b[0m\u001b[1;36m120\u001b[0m\u001b[1;33m,\u001b[0m \u001b[1;36m155\u001b[0m\u001b[1;33m,\u001b[0m \u001b[1;36m88\u001b[0m\u001b[1;33m,\u001b[0m \u001b[1;36m120\u001b[0m\u001b[1;33m,\u001b[0m\u001b[1;36m155\u001b[0m\u001b[1;33m]\u001b[0m\u001b[1;33m\u001b[0m\u001b[1;33m\u001b[0m\u001b[0m\n\u001b[1;32m----> 2\u001b[1;33m \u001b[0ml2\u001b[0m\u001b[1;33m=\u001b[0m \u001b[0mdict\u001b[0m\u001b[1;33m.\u001b[0m\u001b[0mfromkeys\u001b[0m\u001b[1;33m(\u001b[0m\u001b[0ml\u001b[0m\u001b[1;33m,\u001b[0m\u001b[1;36m1\u001b[0m\u001b[1;33m)\u001b[0m\u001b[1;33m\u001b[0m\u001b[1;33m\u001b[0m\u001b[0m\n\u001b[0m\u001b[0;32m      3\u001b[0m \u001b[0ml3\u001b[0m \u001b[1;33m=\u001b[0m \u001b[0mdict\u001b[0m\u001b[1;33m.\u001b[0m\u001b[0mfromkeys\u001b[0m\u001b[1;33m(\u001b[0m\u001b[0ml2\u001b[0m\u001b[1;33m,\u001b[0m \u001b[1;36m1\u001b[0m\u001b[1;33m)\u001b[0m\u001b[1;33m\u001b[0m\u001b[1;33m\u001b[0m\u001b[0m\n\u001b[0;32m      4\u001b[0m \u001b[0mprint\u001b[0m\u001b[1;33m(\u001b[0m\u001b[0ml3\u001b[0m\u001b[1;33m)\u001b[0m\u001b[1;33m\u001b[0m\u001b[1;33m\u001b[0m\u001b[0m\n",
      "\u001b[1;31mAttributeError\u001b[0m: 'set' object has no attribute 'fromkeys'"
     ]
    }
   ],
   "source": [
    "l= [12, 24, 35, 24 ,88 ,120, 155, 88, 120,155]\n",
    "l2= dict.fromkeys(l,1)\n",
    "l3 = dict.fromkeys(l2, 1) \n",
    "print(l3)\n"
   ]
  },
  {
   "cell_type": "code",
   "execution_count": 55,
   "metadata": {},
   "outputs": [
    {
     "name": "stdout",
     "output_type": "stream",
     "text": [
      "list: [12, 24, 35, 24, 88, 120, 155, 88, 120, 155]\n",
      "sets: {35, 12, 155, 24, 88, 120}\n"
     ]
    }
   ],
   "source": [
    "l= [12, 24, 35, 24 ,88 ,120, 155, 88, 120,155]\n",
    "print(\"list:\",l)\n",
    "dup=set(l)\n",
    "print(\"sets:\",dup)"
   ]
  },
  {
   "cell_type": "code",
   "execution_count": null,
   "metadata": {},
   "outputs": [],
   "source": []
  }
 ],
 "metadata": {
  "kernelspec": {
   "display_name": "Python 3",
   "language": "python",
   "name": "python3"
  },
  "language_info": {
   "codemirror_mode": {
    "name": "ipython",
    "version": 3
   },
   "file_extension": ".py",
   "mimetype": "text/x-python",
   "name": "python",
   "nbconvert_exporter": "python",
   "pygments_lexer": "ipython3",
   "version": "3.7.6"
  }
 },
 "nbformat": 4,
 "nbformat_minor": 4
}
