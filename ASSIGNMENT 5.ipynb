{
 "cells": [
  {
   "cell_type": "markdown",
   "metadata": {},
   "source": [
    "# Write a Python program to find the first 20 non-even prime natural numbers."
   ]
  },
  {
   "cell_type": "code",
   "execution_count": 44,
   "metadata": {},
   "outputs": [
    {
     "name": "stdout",
     "output_type": "stream",
     "text": [
      "2\n",
      "3\n",
      "5\n",
      "7\n",
      "11\n",
      "13\n",
      "17\n",
      "19\n",
      "23\n",
      "29\n",
      "31\n",
      "37\n",
      "41\n",
      "43\n",
      "47\n",
      "53\n",
      "59\n",
      "61\n",
      "67\n",
      "71\n",
      "73\n",
      "79\n",
      "83\n",
      "89\n",
      "97\n"
     ]
    }
   ],
   "source": [
    "start=0\n",
    "end=100\n",
    "for i in range(start,end+1):\n",
    "    if i>1:\n",
    "        for j in range(2,i):\n",
    "            if (i%j)==0:\n",
    "                break\n",
    "        else:\n",
    "            print(i)\n",
    "            "
   ]
  },
  {
   "cell_type": "markdown",
   "metadata": {},
   "source": [
    "# Write a Python program to implement 15 functions of string"
   ]
  },
  {
   "cell_type": "code",
   "execution_count": 69,
   "metadata": {},
   "outputs": [
    {
     "name": "stdout",
     "output_type": "stream",
     "text": [
      "e\n",
      "89 11 72 amrahs ahgem\n",
      "megha sharma 27 11 98Hello world\n",
      "hELLO WORLD\n",
      "s\n",
      "Megha sharma 27 11 98\n",
      "False\n",
      "False\n",
      "11\n",
      "egha\n",
      "wor\n",
      "Hello worldHello worldHello world\n",
      "HELLO WORLD\n",
      "g\n",
      "megh* sh*rm* 27 11 98\n"
     ]
    }
   ],
   "source": [
    "str1=\"megha sharma 27 11 98\"\n",
    "str2=\"Hello world\"\n",
    "print(str1[1])\n",
    "print(str1[::-1])\n",
    "print(str1+str2)\n",
    "print(str2.swapcase())\n",
    "print(max(str1))\n",
    "print(str1.capitalize())\n",
    "print(str1.isalpha())\n",
    "print(str1.isdigit())\n",
    "print(len(str2))\n",
    "print(str1[1:5])\n",
    "print(str2[-5:-2])\n",
    "print(str2*3)\n",
    "print(str2.upper())\n",
    "print(str1[2])\n",
    "print(str1.replace(\"a\",\"*\"))"
   ]
  },
  {
   "cell_type": "markdown",
   "metadata": {},
   "source": [
    "# Write a Python program to check if the given string is a Palindrome or Anagram or None of them. Display the message accordingly to the user.\n"
   ]
  },
  {
   "cell_type": "code",
   "execution_count": 91,
   "metadata": {},
   "outputs": [
    {
     "name": "stdout",
     "output_type": "stream",
     "text": [
      "check palindrome :mom\n",
      "Yes\n"
     ]
    }
   ],
   "source": [
    "def a(s): \n",
    "    return s == s[::-1] \n",
    "  \n",
    "s =input(\"check palindrome :\")\n",
    "ans = a(s) \n",
    "  \n",
    "if ans: \n",
    "    print(\"Yes\") \n",
    "else: \n",
    "    print(\"No\") "
   ]
  },
  {
   "cell_type": "markdown",
   "metadata": {},
   "source": [
    "# Write a Python's user defined function that removes all the additional characters from the stringand converts it finally to lower case using built-in lower(). eg: If the string is \"Dr. Darshan Ingle@AI-ML Trainer\", then the output be \"drdarshaningleaimltrainer\"."
   ]
  },
  {
   "cell_type": "code",
   "execution_count": 89,
   "metadata": {},
   "outputs": [
    {
     "name": "stdout",
     "output_type": "stream",
     "text": [
      "Original String : Dr. Darshan Ingle@AI-ML Trainer\n",
      "Resultant list is : Dr Darshan IngleAIML Trainer\n",
      "DrDarshanIngleAIMLTrainer\n"
     ]
    }
   ],
   "source": [
    "\n",
    "b = [';', ':', '!', \"*\",\"@\",\"-\",\".\"] \n",
    "t = \"Dr. Darshan Ingle@AI-ML Trainer\"\n",
    "  \n",
    "\n",
    "print (\"Original String : \" + t)  \n",
    "for i in b : \n",
    "    t = t.replace(i, '') \n",
    "print (\"Resultant list is : \" + str(t)) \n",
    "\n",
    "\n",
    "def remove(string): \n",
    "    return string.replace(\" \", \"\") \n",
    "    return t.lower()\n",
    "\n",
    "string=t\n",
    "print(remove(string)) \n"
   ]
  },
  {
   "cell_type": "code",
   "execution_count": null,
   "metadata": {},
   "outputs": [],
   "source": []
  }
 ],
 "metadata": {
  "kernelspec": {
   "display_name": "Python 3",
   "language": "python",
   "name": "python3"
  },
  "language_info": {
   "codemirror_mode": {
    "name": "ipython",
    "version": 3
   },
   "file_extension": ".py",
   "mimetype": "text/x-python",
   "name": "python",
   "nbconvert_exporter": "python",
   "pygments_lexer": "ipython3",
   "version": "3.7.6"
  }
 },
 "nbformat": 4,
 "nbformat_minor": 4
}
